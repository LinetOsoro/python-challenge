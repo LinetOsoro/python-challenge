{
 "cells": [
  {
   "cell_type": "code",
   "execution_count": 16,
   "id": "8289a912",
   "metadata": {},
   "outputs": [],
   "source": [
    "#dependencies\n",
    "import os\n",
    "import csv\n",
    "\n",
    "# Path to collect data from the Resources folder\n",
    "csv_path = os.path.join('Resources', 'budget_data.csv')\n",
    "\n",
    "# Initialize variables \n",
    "total_months=0\n",
    "total_net=0\n",
    "previous_profit_loss=0\n",
    "profit_loss_changes=[]\n",
    "dates=[]\n",
    "\n",
    "with open(csv_path, newline='') as csvfile:\n",
    "    csvreader = csv.reader(csvfile)\n",
    "\n",
    "    # Skip the header row\n",
    "    csv_header = next(csvreader)\n",
    "\n",
    "    # Loop through rows in the dataset\n",
    "    for row in csvreader:\n",
    "        # count the total months\n",
    "        total_months += 1\n",
    "\n",
    "        # calculate the total net over the period\n",
    "        total_net += int(row[1])\n",
    "\n",
    "        # Calculate the change in profit/loss       \n",
    "        profit_loss = int(row[1])          \n",
    "        profit_loss_change = profit_loss - previous_profit_loss\n",
    "        profit_loss_changes.append(profit_loss_change)\n",
    "        dates.append(row[0])\n",
    "\n",
    "        # Update previous profit/loss for the next iteration\n",
    "        previous_profit_loss = int(row[1])\n",
    "\n",
    "# Calculate the average change after the loop\n",
    "average_change = sum(profit_loss_changes) / (total_months - 1)\n",
    "\n",
    "# Find the greatest increase and decrease in profits \n",
    "greatest_increase = max(profit_loss_changes)\n",
    "greatest_increase_date = dates[profit_loss_changes.index(greatest_increase)]\n",
    "\n",
    "greatest_decrease = min(profit_loss_changes)\n",
    "greatest_decrease_date = dates[profit_loss_changes.index(greatest_decrease)]"
   ]
  },
  {
   "cell_type": "code",
   "execution_count": 17,
   "id": "8e7a18e0",
   "metadata": {},
   "outputs": [
    {
     "name": "stdout",
     "output_type": "stream",
     "text": [
      "Financial Analysis\n",
      "----------------------------\n",
      "Total Months: 86\n",
      "Total: $22564198\n",
      "Average Change: $4500.46\n",
      "Greatest Increase in Profits: Aug-16 ($1862002)\n",
      "Greatest Decrease in Profits: Feb-14 ($-1825558)\n"
     ]
    }
   ],
   "source": [
    "# Print the results\n",
    "print(\"Financial Analysis\")\n",
    "print(\"----------------------------\")\n",
    "print(f\"Total Months: {total_months}\")\n",
    "print(f\"Total: ${net_total}\")\n",
    "print(f\"Average Change: ${average_change:.2f}\")\n",
    "print(f\"Greatest Increase in Profits: {greatest_increase_date} (${greatest_increase})\")\n",
    "print(f\"Greatest Decrease in Profits: {greatest_decrease_date} (${greatest_decrease})\")\n"
   ]
  },
  {
   "cell_type": "code",
   "execution_count": 19,
   "id": "5b23f289",
   "metadata": {},
   "outputs": [],
   "source": [
    "# Save the results to a text file\n",
    "with open(\"financial_analysis.txt\", \"w\") as txtfile:\n",
    "    txtfile.write(\"Financial Analysis\\n\")\n",
    "    txtfile.write(\"----------------------------\\n\")\n",
    "    txtfile.write(f\"Total Months: {total_months}\\n\")\n",
    "    txtfile.write(f\"Total: ${net_total}\\n\")\n",
    "    txtfile.write(f\"Average Change: ${average_change:.2f}\\n\")\n",
    "    txtfile.write(f\"Greatest Increase in Profits: {greatest_increase_date} (${greatest_increase})\\n\")\n",
    "    txtfile.write(f\"Greatest Decrease in Profits: {greatest_decrease_date} (${greatest_decrease})\\n\")\n",
    "        \n"
   ]
  },
  {
   "cell_type": "code",
   "execution_count": null,
   "id": "e84e73d7",
   "metadata": {},
   "outputs": [],
   "source": []
  }
 ],
 "metadata": {
  "kernelspec": {
   "display_name": "Python 3 (ipykernel)",
   "language": "python",
   "name": "python3"
  },
  "language_info": {
   "codemirror_mode": {
    "name": "ipython",
    "version": 3
   },
   "file_extension": ".py",
   "mimetype": "text/x-python",
   "name": "python",
   "nbconvert_exporter": "python",
   "pygments_lexer": "ipython3",
   "version": "3.11.5"
  }
 },
 "nbformat": 4,
 "nbformat_minor": 5
}
