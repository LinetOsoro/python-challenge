{
 "cells": [
  {
   "cell_type": "code",
   "execution_count": 7,
   "id": "8289a912",
   "metadata": {},
   "outputs": [],
   "source": [
    "import os\n",
    "import csv\n",
    "\n",
    "# Path to collect data from the Resources folder\n",
    "csv_path = os.path.join('Resources', 'budget_data.csv')\n",
    "\n",
    "# Initialize variables \n",
    "\n",
    "total_months=0\n",
    "net_total=0\n",
    "net=[]\n",
    "previous_profit_loss=0\n",
    "profit_loss=0\n",
    "profit_loss_changes=[]\n",
    "dates= set()\n",
    "\n",
    "\n"
   ]
  },
  {
   "cell_type": "code",
   "execution_count": 29,
   "id": "465ea253",
   "metadata": {},
   "outputs": [
    {
     "ename": "AttributeError",
     "evalue": "'int' object has no attribute 'append'",
     "output_type": "error",
     "traceback": [
      "\u001b[1;31m---------------------------------------------------------------------------\u001b[0m",
      "\u001b[1;31mAttributeError\u001b[0m                            Traceback (most recent call last)",
      "Cell \u001b[1;32mIn[29], line 19\u001b[0m\n\u001b[0;32m     17\u001b[0m profit_loss\u001b[38;5;241m=\u001b[39m\u001b[38;5;28mint\u001b[39m(row[\u001b[38;5;241m1\u001b[39m])          \n\u001b[0;32m     18\u001b[0m profit_loss_change \u001b[38;5;241m=\u001b[39m profit_loss \u001b[38;5;241m-\u001b[39m previous_profit_loss\n\u001b[1;32m---> 19\u001b[0m profit_loss_change\u001b[38;5;241m.\u001b[39mappend(profit_loss_change)\n\u001b[0;32m     20\u001b[0m dates\u001b[38;5;241m.\u001b[39mappend(row[\u001b[38;5;241m0\u001b[39m])\n\u001b[0;32m     22\u001b[0m \u001b[38;5;66;03m#Update previous profit/loss for the next iteration\u001b[39;00m\n",
      "\u001b[1;31mAttributeError\u001b[0m: 'int' object has no attribute 'append'"
     ]
    }
   ],
   "source": [
    "with open(csv_path, newline='') as csvfile:\n",
    "    csvreader = csv.reader(csvfile)\n",
    "\n",
    "    # Skip the header row\n",
    "    csv_header = next(csvreader)\n",
    "\n",
    "    # Loop through rows in the dataset\n",
    "    for row in csvreader:\n",
    "        \n",
    "        # count the total months\n",
    "         total_months += 1\n",
    "        \n",
    "        # calculate the total net over the period\n",
    "         net_total= net_total+int(row[1])\n",
    "            \n",
    "    #Calculate the change in profit/loss       \n",
    "    profit_loss=int(row[1])          \n",
    "    profit_loss_change = profit_loss - previous_profit_loss\n",
    "    profit_loss_change.append(profit_loss_change)\n",
    "    dates.append(row[0])\n",
    "\n",
    "    #Update previous profit/loss for the next iteration\n",
    "    previous_profit_loss = int(row[1])\n",
    "\n",
    "# Calculate the average change\n",
    "average_change= sum (profit_loss_changes) / (total_months - 1) \n",
    "    \n",
    "    \n",
    "# Find the greatest increase and decrease in profits \n",
    "greatest_increase = max(profit_loss_changes)\n",
    "greatest_increase_date = dates[profit_loss_changes.index(greatest_increase)]\n",
    "\n",
    "greatest_decrease = min(profit_loss_changes)\n",
    "greatest_decrease_date = dates[profit_loss_changes.index(greatest_decrease)]\n",
    "\n"
   ]
  },
  {
   "cell_type": "code",
   "execution_count": null,
   "id": "8e7a18e0",
   "metadata": {},
   "outputs": [],
   "source": [
    "# Print the results\n",
    "print(\"Financial Analysis\")\n",
    "print(\"----------------------------\")\n",
    "print(f\"Total Months: {total_months}\")\n",
    "print(f\"Total: ${net_total}\")\n",
    "print(f\"Average Change: ${average_change:.2f}\")\n",
    "print(f\"Greatest Increase in Profits: {greatest_increase_date} (${greatest_increase})\")\n",
    "print(f\"Greatest Decrease in Profits: {greatest_decrease_date} (${greatest_decrease})\")\n"
   ]
  },
  {
   "cell_type": "code",
   "execution_count": null,
   "id": "5b23f289",
   "metadata": {},
   "outputs": [],
   "source": [
    "# Save the results to a text file\n",
    "with open(\"financial_analysis.txt\", \"w\") as txtfile:\n",
    "    txtfile.write(\"Financial Analysis\\n\")\n",
    "    txtfile.write(\"----------------------------\\n\")\n",
    "    txtfile.write(f\"Total Months: {total_months}\\n\")\n",
    "    txtfile.write(f\"Total: ${net_total}\\n\")\n",
    "    txtfile.write(f\"Average Change: ${average_change:.2f}\\n\")\n",
    "    txtfile.write(f\"Greatest Increase in Profits: {greatest_increase_date} (${greatest_increase})\\n\")\n",
    "    txtfile.write(f\"Greatest Decrease in Profits: {greatest_decrease_date} (${greatest_decrease})\\n\")\n",
    "        \n"
   ]
  }
 ],
 "metadata": {
  "kernelspec": {
   "display_name": "Python 3 (ipykernel)",
   "language": "python",
   "name": "python3"
  },
  "language_info": {
   "codemirror_mode": {
    "name": "ipython",
    "version": 3
   },
   "file_extension": ".py",
   "mimetype": "text/x-python",
   "name": "python",
   "nbconvert_exporter": "python",
   "pygments_lexer": "ipython3",
   "version": "3.11.5"
  }
 },
 "nbformat": 4,
 "nbformat_minor": 5
}
