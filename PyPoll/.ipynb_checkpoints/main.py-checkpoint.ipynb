{
 "cells": [
  {
   "cell_type": "code",
   "execution_count": 10,
   "id": "be1ada33",
   "metadata": {},
   "outputs": [
    {
     "name": "stdout",
     "output_type": "stream",
     "text": [
      "Election Results\n",
      "-------------------------\n"
     ]
    }
   ],
   "source": [
    "#Dependencies\n",
    "import os\n",
    "import csv\n",
    "\n",
    "# Path to collect data from the Resources folder\n",
    "csv_path = os.path.join('Resources', 'election_data.csv')\n",
    "\n",
    "# Initialize variables\n",
    "total_votes = 0\n",
    "winner = {\"name\": \"\", \"votes\": 0}\n",
    "candidate_options =[]\n",
    "candidate_votes ={} \n",
    "\n",
    "            \n",
    "# Print the results\n",
    "print(\"Election Results\")\n",
    "print(\"-------------------------\")\n"
   ]
  },
  {
   "cell_type": "code",
   "execution_count": 21,
   "id": "d6e8abd0",
   "metadata": {},
   "outputs": [
    {
     "name": "stdout",
     "output_type": "stream",
     "text": [
      "Total Votes: 1478844\n",
      "-------------------------\n",
      "Charles Casper Stockham: 23.049% (340852)\n",
      "Diana DeGette: 73.812% (1091568)\n",
      "Raymon Anthony Doane: 3.139% (46424)\n",
      "-------------------------\n",
      "Winner: Diana DeGette\n",
      "-------------------------\n"
     ]
    }
   ],
   "source": [
    "# Read the CSV file\n",
    "with open(csv_path, newline='') as csvfile:\n",
    "    csvreader = csv.reader(csvfile, delimiter=',')\n",
    "\n",
    "    # Skip header\n",
    "    next(csvreader)\n",
    "\n",
    "    # Loop through each row in the CSV\n",
    "    for row in csvreader:\n",
    "        # Count total votes\n",
    "        total_votes += 1\n",
    "\n",
    "        # Extract candidate name from the row\n",
    "        candidate_name = row[2]\n",
    "\n",
    "        # Check if the candidate is not in the list of candidate options\n",
    "        if candidate_name not in candidate_options:\n",
    "            # Add it to the list of candidates\n",
    "            candidate_options.append(candidate_name)\n",
    "\n",
    "            # Track candidate's vote count\n",
    "            candidate_votes[candidate_name] = 0\n",
    "\n",
    "        # Total up the votes for the candidate\n",
    "        candidate_votes[candidate_name] += 1\n",
    "\n",
    "# Print total votes\n",
    "print(f\"Total Votes: {total_votes}\")\n",
    "print(\"-------------------------\")\n",
    "\n",
    "\n",
    "# Loop through candidates and calculate percentages\n",
    "for candidate in candidate_options:\n",
    "    votes = candidate_votes[candidate]\n",
    "    percentage = (votes / total_votes) * 100\n",
    "    print(f\"{candidate}: {percentage:.3f}% ({votes})\")\n",
    "\n",
    "    # Check for the winner\n",
    "    if votes > winner[\"votes\"]:\n",
    "        winner[\"name\"] = candidate\n",
    "        winner[\"votes\"] = votes\n",
    "        \n",
    "\n",
    "#Print the winner information\n",
    "print(\"-------------------------\")\n",
    "print(\"Winner: \" + winner[\"name\"])\n",
    "print(\"-------------------------\")\n"
   ]
  },
  {
   "cell_type": "code",
   "execution_count": 23,
   "id": "e995c5eb",
   "metadata": {},
   "outputs": [],
   "source": [
    "#Save the results to a text file\n",
    "with open(\"election_results_analysis.txt\", \"w\") as txtfile:\n",
    "    txtfile.write(\"Election Results\\n\")\n",
    "    txtfile.write(\"-------------------------\\n\")\n",
    "    txtfile.write(f\"Total Votes: {total_votes}\\n\")\n",
    "    txtfile.write(\"-------------------------\\n\")\n",
    "    txtfile.write(f\"{candidate}: {percentage:.3f}% ({votes})\\n\")  \n",
    "    txtfile.write(\"-------------------------\\n\")\n",
    "    txtfile.write(\"-------------------------\\n\")\n",
    "    txtfile.write(f\"Winner: {winner['name']}\\n\")  \n",
    "    txtfile.write(\"-------------------------\\n\")\n"
   ]
  },
  {
   "cell_type": "code",
   "execution_count": null,
   "id": "77aa4d97",
   "metadata": {},
   "outputs": [],
   "source": []
  }
 ],
 "metadata": {
  "kernelspec": {
   "display_name": "Python 3 (ipykernel)",
   "language": "python",
   "name": "python3"
  },
  "language_info": {
   "codemirror_mode": {
    "name": "ipython",
    "version": 3
   },
   "file_extension": ".py",
   "mimetype": "text/x-python",
   "name": "python",
   "nbconvert_exporter": "python",
   "pygments_lexer": "ipython3",
   "version": "3.11.5"
  }
 },
 "nbformat": 4,
 "nbformat_minor": 5
}
