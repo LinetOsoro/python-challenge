{
 "cells": [
  {
   "cell_type": "code",
   "execution_count": 4,
   "id": "be1ada33",
   "metadata": {},
   "outputs": [
    {
     "name": "stdout",
     "output_type": "stream",
     "text": [
      "Election Results\n",
      "-------------------------\n"
     ]
    }
   ],
   "source": [
    "#Dependencies\n",
    "import os\n",
    "import csv\n",
    "\n",
    "# Path to collect data from the Resources folder\n",
    "csv_path = os.path.join('Resources', 'election_data.csv')\n",
    "\n",
    "# Initialize variables\n",
    "total_votes = 0\n",
    "winner = {\"name\": \"\", \"votes\": 0}\n",
    "candidate_options =[]\n",
    "candidate_votes ={} \n",
    "\n",
    "            \n",
    "# Print the results\n",
    "print(\"Election Results\")\n",
    "print(\"-------------------------\")\n"
   ]
  },
  {
   "cell_type": "code",
   "execution_count": 5,
   "id": "d6e8abd0",
   "metadata": {},
   "outputs": [
    {
     "name": "stdout",
     "output_type": "stream",
     "text": [
      "Total Votes: 369711\n",
      "-------------------------\n",
      "Charles Casper Stockham: 23.049% (85213)\n",
      "Diana DeGette: 73.812% (272892)\n",
      "Raymon Anthony Doane: 3.139% (11606)\n",
      "-------------------------\n",
      "Winner: Diana DeGette\n",
      "-------------------------\n"
     ]
    }
   ],
   "source": [
    "# Read the CSV file\n",
    "with open(csv_path, newline='') as csvfile:\n",
    "    csvreader = csv.reader(csvfile, delimiter=',')\n",
    "\n",
    "    # Skip header\n",
    "    next(csvreader)\n",
    "\n",
    "    # Loop through each row in the CSV\n",
    "    for row in csvreader:\n",
    "        # Count total votes\n",
    "        total_votes += 1\n",
    "\n",
    "        # Extract candidate name from the row\n",
    "        candidate_name = row[2]\n",
    "\n",
    "        # Check if the candidate is not in the list of candidate options\n",
    "        if candidate_name not in candidate_options:\n",
    "            # Add it to the list of candidates\n",
    "            candidate_options.append(candidate_name)\n",
    "\n",
    "            # Track candidate's vote count\n",
    "            candidate_votes[candidate_name] = 0\n",
    "\n",
    "        # Total up the votes for the candidate\n",
    "        candidate_votes[candidate_name] += 1\n",
    "\n",
    "# Print total votes\n",
    "print(f\"Total Votes: {total_votes}\")\n",
    "print(\"-------------------------\")\n",
    "\n",
    "# Loop through candidates and calculate percentages\n",
    "for candidate in candidate_options:\n",
    "    votes = candidate_votes[candidate]\n",
    "    percentage = (votes / total_votes) * 100\n",
    "    print(f\"{candidate}: {percentage:.3f}% ({votes})\")\n",
    "\n",
    "    # Check for the winner\n",
    "    if votes > winner[\"votes\"]:\n",
    "        winner[\"name\"] = candidate\n",
    "        winner[\"votes\"] = votes\n",
    "\n",
    "# Print the winner information\n",
    "print(\"-------------------------\")\n",
    "print(\"Winner: \" + winner[\"name\"])\n",
    "print(\"-------------------------\")\n"
   ]
  },
  {
   "cell_type": "code",
   "execution_count": null,
   "id": "fe2fef4e",
   "metadata": {},
   "outputs": [],
   "source": []
  }
 ],
 "metadata": {
  "kernelspec": {
   "display_name": "Python 3 (ipykernel)",
   "language": "python",
   "name": "python3"
  },
  "language_info": {
   "codemirror_mode": {
    "name": "ipython",
    "version": 3
   },
   "file_extension": ".py",
   "mimetype": "text/x-python",
   "name": "python",
   "nbconvert_exporter": "python",
   "pygments_lexer": "ipython3",
   "version": "3.11.5"
  }
 },
 "nbformat": 4,
 "nbformat_minor": 5
}
