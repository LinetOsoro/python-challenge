{
 "cells": [
  {
   "cell_type": "code",
   "execution_count": 3,
   "id": "429583f9",
   "metadata": {},
   "outputs": [],
   "source": [
    "import os\n",
    "import csv\n",
    "\n",
    "# Path to collect data from the Resources folder\n",
    "csv_path = os.path.join('..', 'Resources', 'election_data.csv')"
   ]
  },
  {
   "cell_type": "code",
   "execution_count": 4,
   "id": "cf0793b8",
   "metadata": {},
   "outputs": [
    {
     "name": "stdout",
     "output_type": "stream",
     "text": [
      "Election Results\n",
      "-------------------------\n",
      "Total Votes: 0\n",
      "-------------------------\n"
     ]
    }
   ],
   "source": [
    "# Initialize variables\n",
    "total_votes = 0\n",
    "candidates = {}\n",
    "winner = {\"name\": \"\", \"votes\": 0}\n",
    "            \n",
    "# Print the results\n",
    "print(\"Election Results\")\n",
    "print(\"-------------------------\")\n",
    "print(f\"Total Votes: {total_votes}\")\n",
    "print(\"-------------------------\")\n",
    "\n"
   ]
  },
  {
   "cell_type": "code",
   "execution_count": 5,
   "id": "eae59463",
   "metadata": {},
   "outputs": [],
   "source": [
    "# Read the CSV file\n",
    "with open(csv_path, newline='') as csvfile:\n",
    "    csvreader = csv.reader(csvfile, delimiter=',')\n",
    "    \n",
    "    # Skip header\n",
    "    next(csvreader)\n",
    "\n",
    "    # Loop through each row in the CSV\n",
    "    for row in csvreader:\n",
    "        # Count total votes\n",
    "        total_votes += 1\n",
    "\n",
    "        # Extract candidate name from the row\n",
    "        candidate_name = row[2]\n",
    "\n",
    "        # Update or initialize candidate votes\n",
    "        if candidate_name in candidates:\n",
    "            candidates[candidate_name] += 1\n",
    "        else:\n",
    "            candidates[candidate_name] = 1"
   ]
  },
  {
   "cell_type": "code",
   "execution_count": 6,
   "id": "2d9a5781",
   "metadata": {},
   "outputs": [
    {
     "name": "stdout",
     "output_type": "stream",
     "text": [
      "Charles Casper Stockham: 23.049% (85213)\n",
      "Diana DeGette: 73.812% (272892)\n",
      "Raymon Anthony Doane: 3.139% (11606)\n"
     ]
    }
   ],
   "source": [
    "# Iterate through candidates and calculate percentages\n",
    "for candidate, votes in candidates.items():\n",
    "    percentage = (votes / total_votes) * 100\n",
    "    print(f\"{candidate}: {percentage:.3f}% ({votes})\")\n"
   ]
  },
  {
   "cell_type": "code",
   "execution_count": 7,
   "id": "cb6cdf2b",
   "metadata": {},
   "outputs": [
    {
     "name": "stdout",
     "output_type": "stream",
     "text": [
      "-------------------------\n",
      "Winner: Raymon Anthony Doane\n",
      "-------------------------\n"
     ]
    }
   ],
   "source": [
    "# Check for the winner\n",
    "if votes > winner[\"votes\"]:\n",
    "        winner[\"name\"] = candidate\n",
    "        winner[\"votes\"] = votes\n",
    "\n",
    "print(\"-------------------------\")\n",
    "print(f\"Winner: {winner['name']}\")\n",
    "print(\"-------------------------\")\n"
   ]
  },
  {
   "cell_type": "code",
   "execution_count": null,
   "id": "21b30aa8",
   "metadata": {},
   "outputs": [],
   "source": []
  }
 ],
 "metadata": {
  "kernelspec": {
   "display_name": "Python 3 (ipykernel)",
   "language": "python",
   "name": "python3"
  },
  "language_info": {
   "codemirror_mode": {
    "name": "ipython",
    "version": 3
   },
   "file_extension": ".py",
   "mimetype": "text/x-python",
   "name": "python",
   "nbconvert_exporter": "python",
   "pygments_lexer": "ipython3",
   "version": "3.11.5"
  }
 },
 "nbformat": 4,
 "nbformat_minor": 5
}
